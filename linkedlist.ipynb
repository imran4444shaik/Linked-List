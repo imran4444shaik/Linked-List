{
 "cells": [
  {
   "cell_type": "code",
   "execution_count": null,
   "id": "65ea953d",
   "metadata": {},
   "outputs": [
    {
     "name": "stdout",
     "output_type": "stream",
     "text": [
      "self.head: None\n",
      "new_node: <__main__.Node object at 0x000002C294FEA080>\n",
      "self.head: <__main__.Node object at 0x000002C294FEA080>\n",
      "new_node: <__main__.Node object at 0x000002C294FE9E10>\n",
      "new_node: <__main__.Node object at 0x000002C294FE9A50>\n",
      "10 -> 20 -> 30 -> None\n"
     ]
    }
   ],
   "source": [
    "# This code implements a simple linked list in Python with basic operations like append and display.\n",
    "class Node:   # Node class to represent each element in the linked list\n",
    "    \"\"\"A class representing a node in a linked list.\"\"\"\n",
    "    def __init__(self, data):\n",
    "        self.data = data\n",
    "        self.next = None\n",
    "\n",
    "class LinkedList: # LinkedList class to manage the linked list operations\n",
    "    \"\"\"A class representing a singly linked list.\"\"\"\n",
    "    def __init__(self):\n",
    "        \n",
    "        self.head = None\n",
    "        print(f\"self.head: {self.head}\")\n",
    "\n",
    "    def append(self, data):\n",
    "        new_node = Node(data)\n",
    "        print(f\"new_node: {new_node}\")\n",
    "        if self.head is None:\n",
    "            self.head = new_node\n",
    "            print(f\"self.head: {self.head}\")\n",
    "            return\n",
    "        temp = self.head\n",
    "        while temp.next:\n",
    "            temp = temp.next\n",
    "        temp.next = new_node\n",
    "\n",
    "    def display(self):\n",
    "        temp = self.head\n",
    "        while temp:\n",
    "            print(temp.data, end=\" -> \")\n",
    "            temp = temp.next\n",
    "        print(\"None\")\n",
    "\n",
    "# Let's test it\n",
    "ll = LinkedList()\n",
    "ll.append(10)\n",
    "ll.append(20)\n",
    "ll.append(30)\n",
    "ll.display()\n"
   ]
  },
  {
   "cell_type": "code",
   "execution_count": null,
   "id": "5c5343ca",
   "metadata": {},
   "outputs": [],
   "source": []
  },
  {
   "cell_type": "code",
   "execution_count": 4,
   "id": "4572c102",
   "metadata": {},
   "outputs": [],
   "source": [
    "class LinkedList:\n",
    "    def __init__(self):\n",
    "        self.head = None  # empty linked list\n",
    "        self.n = 0        # n indicates the number of nodes in the linked list\\\\\n",
    "         \n",
    "    # Define the __len__ method to return the number of nodes\n",
    "    # in the linked list\n",
    "    #here __len__ is a special method that allows us to use the built-in len() function on our LinkedList object\n",
    "    # It returns the value of self.n, which is the number of nodes in the linked\n",
    "    def __len__(self):\n",
    "        return self.n\n",
    "    \n",
    "\n",
    "    # Insert a new node with the given value at the end of the linked list\n",
    "    # If the linked list is empty, the new node becomes the head    \n",
    "    # If the linked list is not empty, we traverse to the end and append the new node\n",
    "    def insert(self, value):\n",
    "        new_node = Node(value)\n",
    "        if self.head is None:\n",
    "            self.head = new_node\n",
    "        else:\n",
    "            temp = self.head\n",
    "            while temp.next:\n",
    "                temp = temp.next\n",
    "            temp.next = new_node\n",
    "        self.n += 1\n",
    "\n",
    "    def traverse(self):\n",
    "        curr = self.head\n",
    "        while curr:\n",
    "            print(curr.data, end=\" -> \")\n",
    "            curr = curr.next\n",
    "        print(\"None\")"
   ]
  },
  {
   "cell_type": "code",
   "execution_count": 5,
   "id": "2812aeb6",
   "metadata": {},
   "outputs": [
    {
     "name": "stdout",
     "output_type": "stream",
     "text": [
      "0\n"
     ]
    }
   ],
   "source": [
    "L = LinkedList()\n",
    "print(len(L))  # Output: 0"
   ]
  },
  {
   "cell_type": "code",
   "execution_count": 6,
   "id": "befe2a04",
   "metadata": {},
   "outputs": [],
   "source": [
    "L.insert(10)\n",
    "L.insert(20)"
   ]
  },
  {
   "cell_type": "code",
   "execution_count": 7,
   "id": "7c249977",
   "metadata": {},
   "outputs": [
    {
     "data": {
      "text/plain": [
       "2"
      ]
     },
     "execution_count": 7,
     "metadata": {},
     "output_type": "execute_result"
    }
   ],
   "source": [
    "len(L)  # Output: 1"
   ]
  },
  {
   "cell_type": "code",
   "execution_count": 8,
   "id": "6dcf0829",
   "metadata": {},
   "outputs": [
    {
     "name": "stdout",
     "output_type": "stream",
     "text": [
      "10 -> 20 -> None\n"
     ]
    }
   ],
   "source": [
    "L.traverse()"
   ]
  },
  {
   "cell_type": "code",
   "execution_count": 37,
   "id": "bcee1222",
   "metadata": {},
   "outputs": [],
   "source": [
    "class Node:\n",
    "    def __init__(self, data):\n",
    "        self.data = data\n",
    "        self.next = None\n",
    "\n",
    "\n",
    "class LinkedList:\n",
    "    #this is a simple implementation of a singly linked list in Python\n",
    "    #It allows you to insert nodes at the end, print the list, print the length\n",
    "    #insert nodes at the beginning, insert after a specific node, delete a node by value, and clear the list.\n",
    "    #The LinkedList class maintains a reference to the head node, and each node contains data\n",
    "    def __init__(self):\n",
    "        self.head = None\n",
    "\n",
    "\n",
    "\n",
    "    def insert_at_end(self, data):\n",
    "        if self.head is None:\n",
    "            self.head = Node(data)\n",
    "        else:\n",
    "            current = self.head\n",
    "            while current.next:\n",
    "                current = current.next\n",
    "            current.next = Node(data)\n",
    "\n",
    "\n",
    "    def print_list(self):\n",
    "        current = self.head\n",
    "        while current:\n",
    "            print(current.data, end=\" -> \")\n",
    "            current = current.next\n",
    "        print(\"None\")\n",
    "\n",
    "    def print_len_of_list(self):\n",
    "        curr = self.head\n",
    "        count = 0\n",
    "        if curr is None:\n",
    "            print(\"Length of the linked list: 0\")\n",
    "            return\n",
    "        while curr.next:\n",
    "            count += 1\n",
    "            curr = curr.next\n",
    "        print(f\"Length of the linked list: {count + 1}\")\n",
    "\n",
    "    def insert_at_beginning(self, data):\n",
    "        new_node = Node(data)\n",
    "        new_node.next = self.head\n",
    "        self.head = new_node\n",
    "\n",
    "\n",
    "    def insert_after_node(self, prev_node, data):\n",
    "        if prev_node is None:\n",
    "            print(\"The given previous node cannot be None\")\n",
    "            return\n",
    "        new_node = Node(data)\n",
    "        new_node.next = prev_node.next\n",
    "        prev_node.next = new_node\n",
    "\n",
    "\n",
    "    def delete_node(self, key):\n",
    "        curr = self.head\n",
    "\n",
    "        if curr is not None:\n",
    "            if curr.data == key:\n",
    "                self.head = curr.next\n",
    "                curr = None\n",
    "                return\n",
    "\n",
    "        while curr is not None:\n",
    "            if curr.data == key:\n",
    "                break\n",
    "            prev = curr\n",
    "            curr = curr.next\n",
    "\n",
    "        if curr is None:\n",
    "            return\n",
    "\n",
    "        prev.next = curr.next\n",
    "        curr = None\n",
    "\n",
    "    def clear_list(self):\n",
    "        self.head = None\n",
    "        print(\"Linked list cleared.\")\n",
    "\n",
    "    def remove_last_node(self):\n",
    "        if self.head is None:\n",
    "            print(\"List is empty, nothing to remove.\")\n",
    "            return\n",
    "        else:\n",
    "            current = self.head\n",
    "            if current.next is None:\n",
    "                self.head = None\n",
    "                return\n",
    "            while current.next.next:\n",
    "                current = current.next\n",
    "            current.next = None\n",
    "        print(\"Last node removed.\")\n",
    "\n",
    "    def combine_two_lists(self, other_list):\n",
    "        if self.head is None:\n",
    "            self.head = other_list.head\n",
    "        elif other_list.head is not None:\n",
    "            current = self.head\n",
    "            while current.next:\n",
    "                current = current.next\n",
    "            current.next = other_list.head"
   ]
  },
  {
   "cell_type": "code",
   "execution_count": 38,
   "id": "19aeceb2",
   "metadata": {},
   "outputs": [],
   "source": [
    "a = LinkedList()\n",
    "a.insert_at_end(10)\n",
    "a.insert_at_end(20)"
   ]
  },
  {
   "cell_type": "code",
   "execution_count": 39,
   "id": "7167ab57",
   "metadata": {},
   "outputs": [
    {
     "name": "stdout",
     "output_type": "stream",
     "text": [
      "10 -> 20 -> None\n"
     ]
    }
   ],
   "source": [
    "a.print_list()"
   ]
  },
  {
   "cell_type": "code",
   "execution_count": 40,
   "id": "c3627590",
   "metadata": {},
   "outputs": [],
   "source": [
    "a.insert_after_node(a.head, 15)"
   ]
  },
  {
   "cell_type": "code",
   "execution_count": 41,
   "id": "b46583a8",
   "metadata": {},
   "outputs": [
    {
     "name": "stdout",
     "output_type": "stream",
     "text": [
      "10 -> 15 -> 20 -> None\n"
     ]
    }
   ],
   "source": [
    "a.print_list()"
   ]
  },
  {
   "cell_type": "code",
   "execution_count": 42,
   "id": "f9d4729c",
   "metadata": {},
   "outputs": [
    {
     "name": "stdout",
     "output_type": "stream",
     "text": [
      "Last node removed.\n"
     ]
    }
   ],
   "source": [
    "a.remove_last_node()"
   ]
  },
  {
   "cell_type": "code",
   "execution_count": 43,
   "id": "894e763d",
   "metadata": {},
   "outputs": [
    {
     "name": "stdout",
     "output_type": "stream",
     "text": [
      "10 -> 15 -> None\n"
     ]
    }
   ],
   "source": [
    "a.print_list()"
   ]
  },
  {
   "cell_type": "code",
   "execution_count": 44,
   "id": "16aed8f4",
   "metadata": {},
   "outputs": [
    {
     "name": "stdout",
     "output_type": "stream",
     "text": [
      "Length of the linked list: 2\n"
     ]
    }
   ],
   "source": [
    "a.print_len_of_list()"
   ]
  },
  {
   "cell_type": "code",
   "execution_count": 45,
   "id": "a7e1c43a",
   "metadata": {},
   "outputs": [],
   "source": [
    "a.delete_node(10)"
   ]
  },
  {
   "cell_type": "code",
   "execution_count": 46,
   "id": "7ae29b7c",
   "metadata": {},
   "outputs": [
    {
     "name": "stdout",
     "output_type": "stream",
     "text": [
      "15 -> None\n"
     ]
    }
   ],
   "source": [
    "a.print_list()"
   ]
  },
  {
   "cell_type": "code",
   "execution_count": 47,
   "id": "0f3aef95",
   "metadata": {},
   "outputs": [],
   "source": [
    "b = LinkedList()\n",
    "b.insert_at_end(10)\n",
    "b.insert_at_end(20)"
   ]
  },
  {
   "cell_type": "code",
   "execution_count": 48,
   "id": "1705e166",
   "metadata": {},
   "outputs": [
    {
     "name": "stdout",
     "output_type": "stream",
     "text": [
      "10 -> 20 -> None\n"
     ]
    }
   ],
   "source": [
    "b.print_list()"
   ]
  },
  {
   "cell_type": "code",
   "execution_count": 49,
   "id": "9959ca7d",
   "metadata": {},
   "outputs": [],
   "source": [
    "b.combine_two_lists(a)"
   ]
  },
  {
   "cell_type": "code",
   "execution_count": 50,
   "id": "29a3633f",
   "metadata": {},
   "outputs": [
    {
     "name": "stdout",
     "output_type": "stream",
     "text": [
      "10 -> 20 -> 15 -> None\n"
     ]
    }
   ],
   "source": [
    "b.print_list()"
   ]
  },
  {
   "cell_type": "code",
   "execution_count": null,
   "id": "6f4979f0",
   "metadata": {},
   "outputs": [],
   "source": []
  }
 ],
 "metadata": {
  "kernelspec": {
   "display_name": "Python 3",
   "language": "python",
   "name": "python3"
  },
  "language_info": {
   "codemirror_mode": {
    "name": "ipython",
    "version": 3
   },
   "file_extension": ".py",
   "mimetype": "text/x-python",
   "name": "python",
   "nbconvert_exporter": "python",
   "pygments_lexer": "ipython3",
   "version": "3.10.0"
  }
 },
 "nbformat": 4,
 "nbformat_minor": 5
}
