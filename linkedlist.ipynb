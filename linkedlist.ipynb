{
 "cells": [
  {
   "cell_type": "code",
   "execution_count": 127,
   "id": "65ea953d",
   "metadata": {},
   "outputs": [
    {
     "name": "stdout",
     "output_type": "stream",
     "text": [
      "self.head: None\n",
      "new_node: <__main__.Node object at 0x000002C294DE5540>\n",
      "self.head: <__main__.Node object at 0x000002C294DE5540>\n",
      "new_node: <__main__.Node object at 0x000002C294DE51E0>\n",
      "new_node: <__main__.Node object at 0x000002C294DE4D90>\n",
      "10 -> 20 -> 30 -> None\n"
     ]
    }
   ],
   "source": [
    "# This code implements a simple linked list in Python with basic operations like append and display.\n",
    "class Node:   # Node class to represent each element in the linked list\n",
    "    \"\"\"A class representing a node in a linked list.\"\"\"\n",
    "    def __init__(self, data):\n",
    "        self.data = data\n",
    "        self.next = None\n",
    "\n",
    "class LinkedList: # LinkedList class to manage the linked list operations\n",
    "    \"\"\"A class representing a singly linked list.\"\"\"\n",
    "    def __init__(self):\n",
    "        \n",
    "        self.head = None\n",
    "        print(f\"self.head: {self.head}\")\n",
    "\n",
    "    def append(self, data):\n",
    "        new_node = Node(data)\n",
    "        print(f\"new_node: {new_node}\")\n",
    "        if self.head is None:\n",
    "            self.head = new_node\n",
    "            print(f\"self.head: {self.head}\")\n",
    "            return\n",
    "        temp = self.head\n",
    "        while temp.next:\n",
    "            temp = temp.next\n",
    "        temp.next = new_node\n",
    "\n",
    "    def display(self):\n",
    "        temp = self.head\n",
    "        while temp:\n",
    "            print(temp.data, end=\" -> \")\n",
    "            temp = temp.next\n",
    "        print(\"None\")\n",
    "\n",
    "# Let's test it\n",
    "ll = LinkedList()\n",
    "ll.append(10)\n",
    "ll.append(20)\n",
    "ll.append(30)\n",
    "ll.display()\n"
   ]
  },
  {
   "cell_type": "code",
   "execution_count": null,
   "id": "5c5343ca",
   "metadata": {},
   "outputs": [],
   "source": []
  },
  {
   "cell_type": "code",
   "execution_count": 128,
   "id": "4572c102",
   "metadata": {},
   "outputs": [],
   "source": [
    "class LinkedList:\n",
    "    def __init__(self):\n",
    "        self.head = None  # empty linked list\n",
    "        self.n = 0        # n indicates the number of nodes in the linked list\\\\\n",
    "         \n",
    "    # Define the __len__ method to return the number of nodes\n",
    "    # in the linked list\n",
    "    #here __len__ is a special method that allows us to use the built-in len() function on our LinkedList object\n",
    "    # It returns the value of self.n, which is the number of nodes in the linked\n",
    "    def __len__(self):\n",
    "        return self.n\n",
    "    \n",
    "\n",
    "    # Insert a new node with the given value at the end of the linked list\n",
    "    # If the linked list is empty, the new node becomes the head    \n",
    "    # If the linked list is not empty, we traverse to the end and append the new node\n",
    "    def insert(self, value):\n",
    "        new_node = Node(value)\n",
    "        if self.head is None:\n",
    "            self.head = new_node\n",
    "        else:\n",
    "            temp = self.head\n",
    "            while temp.next:\n",
    "                temp = temp.next\n",
    "            temp.next = new_node\n",
    "        self.n += 1\n",
    "\n",
    "    def traverse(self):\n",
    "        curr = self.head\n",
    "        while curr:\n",
    "            print(curr.data, end=\" -> \")\n",
    "            curr = curr.next\n",
    "        print(\"None\")"
   ]
  },
  {
   "cell_type": "code",
   "execution_count": 129,
   "id": "2812aeb6",
   "metadata": {},
   "outputs": [
    {
     "name": "stdout",
     "output_type": "stream",
     "text": [
      "0\n"
     ]
    }
   ],
   "source": [
    "L = LinkedList()\n",
    "print(len(L))  # Output: 0"
   ]
  },
  {
   "cell_type": "code",
   "execution_count": 130,
   "id": "befe2a04",
   "metadata": {},
   "outputs": [],
   "source": [
    "L.insert(10)\n",
    "L.insert(20)"
   ]
  },
  {
   "cell_type": "code",
   "execution_count": 131,
   "id": "7c249977",
   "metadata": {},
   "outputs": [
    {
     "data": {
      "text/plain": [
       "2"
      ]
     },
     "execution_count": 131,
     "metadata": {},
     "output_type": "execute_result"
    }
   ],
   "source": [
    "len(L)  # Output: 1"
   ]
  },
  {
   "cell_type": "code",
   "execution_count": 132,
   "id": "6dcf0829",
   "metadata": {},
   "outputs": [
    {
     "name": "stdout",
     "output_type": "stream",
     "text": [
      "10 -> 20 -> None\n"
     ]
    }
   ],
   "source": [
    "L.traverse()"
   ]
  },
  {
   "cell_type": "code",
   "execution_count": null,
   "id": "bcee1222",
   "metadata": {},
   "outputs": [],
   "source": [
    "class Node:\n",
    "    def __init__(self, data):\n",
    "        self.data = data\n",
    "        self.next = None\n",
    "\n",
    "\n",
    "class LinkedList:\n",
    "    #this is a simple implementation of a singly linked list in Python\n",
    "    #It allows you to insert nodes at the end, print the list, print the length\n",
    "    #insert nodes at the beginning, insert after a specific node, delete a node by value, and clear the list.\n",
    "    #The LinkedList class maintains a reference to the head node, and each node contains data\n",
    "    def __init__(self):\n",
    "        self.head = None\n",
    "\n",
    "\n",
    "\n",
    "    def insert_at_end(self, data):\n",
    "        if self.head is None:\n",
    "            self.head = Node(data)\n",
    "        else:\n",
    "            current = self.head\n",
    "            while current.next:\n",
    "                current = current.next\n",
    "            current.next = Node(data)\n",
    "\n",
    "\n",
    "    def print_list(self):\n",
    "        current = self.head\n",
    "        while current:\n",
    "            print(current.data, end=\" -> \")\n",
    "            current = current.next\n",
    "        print(\"None\")\n",
    "\n",
    "    def print_len_of_list(self):\n",
    "        curr = self.head\n",
    "        count = 0\n",
    "        if curr is None:\n",
    "            print(\"Length of the linked list: 0\")\n",
    "            return\n",
    "        while curr.next:\n",
    "            count += 1\n",
    "            curr = curr.next\n",
    "        print(f\"Length of the linked list: {count + 1}\")\n",
    "\n",
    "    def insert_at_beginning(self, data):\n",
    "        new_node = Node(data)\n",
    "        new_node.next = self.head\n",
    "        self.head = new_node\n",
    "\n",
    "\n",
    "    def insert_after_node(self, prev_node, data):\n",
    "        if prev_node is None:\n",
    "            print(\"The given previous node cannot be None\")\n",
    "            return\n",
    "        new_node = Node(data)\n",
    "        new_node.next = prev_node.next\n",
    "        prev_node.next = new_node\n",
    "\n",
    "\n",
    "    def delete_node(self, key):\n",
    "        curr = self.head\n",
    "\n",
    "        if curr is not None:\n",
    "            if curr.data == key:\n",
    "                self.head = curr.next\n",
    "                curr = None\n",
    "                return\n",
    "\n",
    "        while curr is not None:\n",
    "            if curr.data == key:\n",
    "                break\n",
    "            prev = curr\n",
    "            curr = curr.next\n",
    "\n",
    "        if curr is None:\n",
    "            return\n",
    "\n",
    "        prev.next = curr.next\n",
    "        curr = None\n",
    "\n",
    "    def clear_list(self):\n",
    "        self.head = None\n",
    "        print(\"Linked list cleared.\")\n",
    "\n",
    "    def remove_last_node(self):\n",
    "        if self.head is None:\n",
    "            print(\"List is empty, nothing to remove.\")\n",
    "            return\n",
    "        else:\n",
    "            current = self.head\n",
    "            if current.next is None:\n",
    "                self.head = None\n",
    "                return\n",
    "            while current.next.next:\n",
    "                current = current.next\n",
    "            current.next = None\n",
    "        print(\"Last node removed.\")\n",
    "\n",
    "    def combine_two_lists(self, other_list):\n",
    "        if self.head is None:\n",
    "            self.head = other_list.head\n",
    "        elif other_list.head is not None:\n",
    "            current = self.head\n",
    "            while current.next:\n",
    "                current = current.next\n",
    "            current.next = other_list.head\n",
    "\n",
    "    def search(self, key):\n",
    "        current = self.head\n",
    "        while current:\n",
    "            if current.data == key:\n",
    "                return True\n",
    "            current = current.next\n",
    "        return False\n",
    "    # a method to search for a node by its index for example L[3] should return the node at index 3\n",
    "    def search_by_index(self, index):\n",
    "        if index < 0:\n",
    "            return None\n",
    "        current = self.head\n",
    "        count = 0\n",
    "        while current:\n",
    "            if count == index:\n",
    "                return current.data\n",
    "            current = current.next\n",
    "            count += 1\n",
    "        return None\n",
    "    \n",
    "    #method to find the middle node of the linked list\n",
    "    def find_middle(self):\n",
    "        slow = self.head\n",
    "        fast = self.head\n",
    "        if self.head is not None:\n",
    "            while fast is not None and fast.next is not None:\n",
    "                fast = fast.next.next\n",
    "                slow = slow.next\n",
    "        return slow.data if slow else None\n",
    "    \n",
    "    #method to reverse the linked list\n",
    "    def reverse(self):\n",
    "        prev = None\n",
    "        current = self.head\n",
    "        while current:\n",
    "            next_node = current.next\n",
    "            current.next = prev\n",
    "            prev = current\n",
    "            current = next_node\n",
    "        self.head = prev\n",
    "\n",
    "\n",
    "    #method to find the maximum value in the linked list\n",
    "    def find_max(self):\n",
    "        if self.head is None:\n",
    "            return None\n",
    "        max_value = self.head.data\n",
    "        current = self.head.next\n",
    "        while current:\n",
    "            if current.data > max_value:\n",
    "                max_value = current.data\n",
    "            current = current.next\n",
    "        return max_value\n",
    "    \n",
    "\n",
    "    #method to print sum of all nodes in the linked list\n",
    "    def print_sum(self):    \n",
    "        current = self.head\n",
    "        total = 0\n",
    "        while current:\n",
    "            total += current.data\n",
    "            current = current.next\n",
    "        print(f\"Sum of all nodes: {total}\")\n",
    "    "
   ]
  },
  {
   "cell_type": "code",
   "execution_count": 134,
   "id": "19aeceb2",
   "metadata": {},
   "outputs": [],
   "source": [
    "a = LinkedList()\n",
    "a.insert_at_end(10)\n",
    "a.insert_at_end(20)"
   ]
  },
  {
   "cell_type": "code",
   "execution_count": 135,
   "id": "7167ab57",
   "metadata": {},
   "outputs": [
    {
     "name": "stdout",
     "output_type": "stream",
     "text": [
      "10 -> 20 -> None\n"
     ]
    }
   ],
   "source": [
    "a.print_list()"
   ]
  },
  {
   "cell_type": "code",
   "execution_count": 136,
   "id": "c3627590",
   "metadata": {},
   "outputs": [],
   "source": [
    "a.insert_after_node(a.head, 15)"
   ]
  },
  {
   "cell_type": "code",
   "execution_count": 137,
   "id": "b46583a8",
   "metadata": {},
   "outputs": [
    {
     "name": "stdout",
     "output_type": "stream",
     "text": [
      "10 -> 15 -> 20 -> None\n"
     ]
    }
   ],
   "source": [
    "a.print_list()"
   ]
  },
  {
   "cell_type": "code",
   "execution_count": 138,
   "id": "f9d4729c",
   "metadata": {},
   "outputs": [
    {
     "name": "stdout",
     "output_type": "stream",
     "text": [
      "Last node removed.\n"
     ]
    }
   ],
   "source": [
    "a.remove_last_node()"
   ]
  },
  {
   "cell_type": "code",
   "execution_count": 139,
   "id": "894e763d",
   "metadata": {},
   "outputs": [
    {
     "name": "stdout",
     "output_type": "stream",
     "text": [
      "10 -> 15 -> None\n"
     ]
    }
   ],
   "source": [
    "a.print_list()"
   ]
  },
  {
   "cell_type": "code",
   "execution_count": 140,
   "id": "16aed8f4",
   "metadata": {},
   "outputs": [
    {
     "name": "stdout",
     "output_type": "stream",
     "text": [
      "Length of the linked list: 2\n"
     ]
    }
   ],
   "source": [
    "a.print_len_of_list()"
   ]
  },
  {
   "cell_type": "code",
   "execution_count": 141,
   "id": "a7e1c43a",
   "metadata": {},
   "outputs": [],
   "source": [
    "a.delete_node(10)"
   ]
  },
  {
   "cell_type": "code",
   "execution_count": 142,
   "id": "7ae29b7c",
   "metadata": {},
   "outputs": [
    {
     "name": "stdout",
     "output_type": "stream",
     "text": [
      "15 -> None\n"
     ]
    }
   ],
   "source": [
    "a.print_list()"
   ]
  },
  {
   "cell_type": "code",
   "execution_count": 143,
   "id": "0f3aef95",
   "metadata": {},
   "outputs": [],
   "source": [
    "b = LinkedList()\n",
    "b.insert_at_end(10)\n",
    "b.insert_at_end(20)"
   ]
  },
  {
   "cell_type": "code",
   "execution_count": 144,
   "id": "1705e166",
   "metadata": {},
   "outputs": [
    {
     "name": "stdout",
     "output_type": "stream",
     "text": [
      "10 -> 20 -> None\n"
     ]
    }
   ],
   "source": [
    "b.print_list()"
   ]
  },
  {
   "cell_type": "code",
   "execution_count": 145,
   "id": "9959ca7d",
   "metadata": {},
   "outputs": [],
   "source": [
    "b.combine_two_lists(a)"
   ]
  },
  {
   "cell_type": "code",
   "execution_count": 146,
   "id": "29a3633f",
   "metadata": {},
   "outputs": [
    {
     "name": "stdout",
     "output_type": "stream",
     "text": [
      "10 -> 20 -> 15 -> None\n"
     ]
    }
   ],
   "source": [
    "b.print_list()"
   ]
  },
  {
   "cell_type": "code",
   "execution_count": 147,
   "id": "6f4979f0",
   "metadata": {},
   "outputs": [
    {
     "data": {
      "text/plain": [
       "True"
      ]
     },
     "execution_count": 147,
     "metadata": {},
     "output_type": "execute_result"
    }
   ],
   "source": [
    "b.search(20)"
   ]
  },
  {
   "cell_type": "code",
   "execution_count": 148,
   "id": "79d71ab1",
   "metadata": {},
   "outputs": [
    {
     "data": {
      "text/plain": [
       "15"
      ]
     },
     "execution_count": 148,
     "metadata": {},
     "output_type": "execute_result"
    }
   ],
   "source": [
    "b.search_by_index(2)"
   ]
  },
  {
   "cell_type": "code",
   "execution_count": 149,
   "id": "e49bafe8",
   "metadata": {},
   "outputs": [
    {
     "data": {
      "text/plain": [
       "20"
      ]
     },
     "execution_count": 149,
     "metadata": {},
     "output_type": "execute_result"
    }
   ],
   "source": [
    "b.find_middle()"
   ]
  },
  {
   "cell_type": "code",
   "execution_count": 150,
   "id": "9c4fe6d2",
   "metadata": {},
   "outputs": [],
   "source": [
    "b.reverse()"
   ]
  },
  {
   "cell_type": "code",
   "execution_count": 151,
   "id": "c9d4bf56",
   "metadata": {},
   "outputs": [
    {
     "name": "stdout",
     "output_type": "stream",
     "text": [
      "15 -> 20 -> 10 -> None\n"
     ]
    }
   ],
   "source": [
    "b.print_list()"
   ]
  },
  {
   "cell_type": "code",
   "execution_count": 152,
   "id": "b110814b",
   "metadata": {},
   "outputs": [
    {
     "data": {
      "text/plain": [
       "20"
      ]
     },
     "execution_count": 152,
     "metadata": {},
     "output_type": "execute_result"
    }
   ],
   "source": [
    "b.find_max()"
   ]
  },
  {
   "cell_type": "code",
   "execution_count": null,
   "id": "05bb04c8",
   "metadata": {},
   "outputs": [],
   "source": []
  },
  {
   "cell_type": "code",
   "execution_count": 153,
   "id": "45c74d55",
   "metadata": {},
   "outputs": [],
   "source": [
    "#circular linked list\n",
    "class CircularNode:\n",
    "    def __init__(self, data):\n",
    "        self.data = data\n",
    "        self.next = None\n",
    "\n",
    "class CircularLinkedList:\n",
    "    def __init__(self):\n",
    "        self.head = None\n",
    "\n",
    "    def append(self, data):\n",
    "        new_node = CircularNode(data)\n",
    "        if not self.head:\n",
    "            self.head = new_node\n",
    "            new_node.next = self.head  # Point to itself\n",
    "        else:\n",
    "            current = self.head\n",
    "            while current.next != self.head:\n",
    "                current = current.next\n",
    "            current.next = new_node\n",
    "            new_node.next = self.head  # Point to head to make it circular\n",
    "\n",
    "    def display(self):\n",
    "        if not self.head:\n",
    "            print(\"List is empty\")\n",
    "            return\n",
    "        current = self.head\n",
    "        while True:\n",
    "            print(current.data, end=\" -> \")\n",
    "            current = current.next\n",
    "            if current == self.head:\n",
    "                break\n",
    "        print(\"(back to head)\")"
   ]
  },
  {
   "cell_type": "code",
   "execution_count": 154,
   "id": "a46c4684",
   "metadata": {},
   "outputs": [],
   "source": [
    "a = CircularLinkedList()\n",
    "a.append(10)\n",
    "a.append(20)\n",
    "a.append(30)"
   ]
  },
  {
   "cell_type": "code",
   "execution_count": 155,
   "id": "3b0b5060",
   "metadata": {},
   "outputs": [
    {
     "name": "stdout",
     "output_type": "stream",
     "text": [
      "10 -> 20 -> 30 -> (back to head)\n"
     ]
    }
   ],
   "source": [
    "a.display()"
   ]
  },
  {
   "cell_type": "code",
   "execution_count": null,
   "id": "b6e57885",
   "metadata": {},
   "outputs": [],
   "source": []
  },
  {
   "cell_type": "code",
   "execution_count": null,
   "id": "2a307630",
   "metadata": {},
   "outputs": [],
   "source": []
  },
  {
   "cell_type": "code",
   "execution_count": null,
   "id": "9e7dd491",
   "metadata": {},
   "outputs": [],
   "source": []
  },
  {
   "cell_type": "code",
   "execution_count": null,
   "id": "f79c130c",
   "metadata": {},
   "outputs": [],
   "source": []
  }
 ],
 "metadata": {
  "kernelspec": {
   "display_name": "Python 3",
   "language": "python",
   "name": "python3"
  },
  "language_info": {
   "codemirror_mode": {
    "name": "ipython",
    "version": 3
   },
   "file_extension": ".py",
   "mimetype": "text/x-python",
   "name": "python",
   "nbconvert_exporter": "python",
   "pygments_lexer": "ipython3",
   "version": "3.10.0"
  }
 },
 "nbformat": 4,
 "nbformat_minor": 5
}
